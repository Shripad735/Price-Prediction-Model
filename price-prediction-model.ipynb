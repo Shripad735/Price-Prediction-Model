{
 "cells": [
  {
   "cell_type": "markdown",
   "id": "d2adce58",
   "metadata": {
    "papermill": {
     "duration": 0.02798,
     "end_time": "2022-01-09T05:11:46.882832",
     "exception": false,
     "start_time": "2022-01-09T05:11:46.854852",
     "status": "completed"
    },
    "tags": []
   },
   "source": [
    "**DESCRIPTION OF THE PROBLEM:**\n",
    "\n",
    "The problem of proposing item prices: The current pricing of products is difficult on a large scale because items are priced in many different ways such as clothing that prices products according to seasons, while the price of electronic products is priced according to its specifications. Through this, We want to build an algorithm to automatically suggest appropriate product prices to sellers based on the information they provide such as product category name, brand name and item status."
   ]
  },
  {
   "cell_type": "code",
   "execution_count": 1,
   "id": "3de8e552",
   "metadata": {
    "execution": {
     "iopub.execute_input": "2022-01-09T05:12:15.639067Z",
     "iopub.status.busy": "2022-01-09T05:12:15.638377Z",
     "iopub.status.idle": "2022-01-09T05:12:17.003652Z",
     "shell.execute_reply": "2022-01-09T05:12:17.002332Z",
     "shell.execute_reply.started": "2022-01-09T05:07:57.208948Z"
    },
    "papermill": {
     "duration": 1.421487,
     "end_time": "2022-01-09T05:12:17.003836",
     "exception": false,
     "start_time": "2022-01-09T05:12:15.582349",
     "status": "completed"
    },
    "tags": []
   },
   "outputs": [],
   "source": [
    "\n",
    "import numpy as np \n",
    "import pandas as pd \n",
    "import time\n",
    "import lzma\n",
    "from scipy import stats, integrate\n",
    "import matplotlib.pyplot as plt\n",
    "import seaborn as sns\n",
    "import csv\n",
    "import re\n",
    "\n",
    "from sklearn import datasets, linear_model\n",
    "from sklearn.metrics import mean_squared_error, r2_score"
   ]
  },
  {
   "cell_type": "markdown",
   "id": "ce95fda5",
   "metadata": {
    "papermill": {
     "duration": 0.050488,
     "end_time": "2022-01-09T05:12:17.104419",
     "exception": false,
     "start_time": "2022-01-09T05:12:17.053931",
     "status": "completed"
    },
    "tags": []
   },
   "source": [
    "**I.Check input data:**"
   ]
  },
  {
   "cell_type": "code",
   "execution_count": 2,
   "id": "cf6235fe",
   "metadata": {
    "execution": {
     "iopub.execute_input": "2022-01-09T05:12:17.210641Z",
     "iopub.status.busy": "2022-01-09T05:12:17.209457Z",
     "iopub.status.idle": "2022-01-09T05:12:38.137267Z",
     "shell.execute_reply": "2022-01-09T05:12:38.136597Z",
     "shell.execute_reply.started": "2022-01-09T05:07:58.681149Z"
    },
    "papermill": {
     "duration": 20.98349,
     "end_time": "2022-01-09T05:12:38.137406",
     "exception": false,
     "start_time": "2022-01-09T05:12:17.153916",
     "status": "completed"
    },
    "tags": []
   },
   "outputs": [
    {
     "name": "stdout",
     "output_type": "stream",
     "text": [
      "train data:  (1482535, 8)\n",
      "test data:  (3460725, 7)\n"
     ]
    }
   ],
   "source": [
    "#Read input data ::\n",
    "train = pd.read_csv('train.tsv', sep='\\t')\n",
    "test = pd.read_csv('test_stg2.tsv', sep='\\t')\n",
    "print(\"train data: \",train.shape)\n",
    "print(\"test data: \",test.shape)"
   ]
  },
  {
   "cell_type": "code",
   "execution_count": 3,
   "id": "bd5ff2bd",
   "metadata": {
    "execution": {
     "iopub.execute_input": "2022-01-09T05:12:38.247223Z",
     "iopub.status.busy": "2022-01-09T05:12:38.246254Z",
     "iopub.status.idle": "2022-01-09T05:12:38.927086Z",
     "shell.execute_reply": "2022-01-09T05:12:38.927595Z",
     "shell.execute_reply.started": "2022-01-09T05:08:20.290541Z"
    },
    "papermill": {
     "duration": 0.740017,
     "end_time": "2022-01-09T05:12:38.927808",
     "exception": false,
     "start_time": "2022-01-09T05:12:38.187791",
     "status": "completed"
    },
    "tags": []
   },
   "outputs": [
    {
     "name": "stdout",
     "output_type": "stream",
     "text": [
      "<class 'pandas.core.frame.DataFrame'>\n",
      "RangeIndex: 1482535 entries, 0 to 1482534\n",
      "Data columns (total 8 columns):\n",
      " #   Column             Non-Null Count    Dtype  \n",
      "---  ------             --------------    -----  \n",
      " 0   train_id           1482535 non-null  int64  \n",
      " 1   name               1482535 non-null  object \n",
      " 2   item_condition_id  1482535 non-null  int64  \n",
      " 3   category_name      1476208 non-null  object \n",
      " 4   brand_name         849853 non-null   object \n",
      " 5   price              1482535 non-null  float64\n",
      " 6   shipping           1482535 non-null  int64  \n",
      " 7   item_description   1482531 non-null  object \n",
      "dtypes: float64(1), int64(3), object(4)\n",
      "memory usage: 90.5+ MB\n"
     ]
    }
   ],
   "source": [
    "#Train file information\n",
    "train.info()"
   ]
  },
  {
   "cell_type": "code",
   "execution_count": 4,
   "id": "d8d9473e",
   "metadata": {
    "execution": {
     "iopub.execute_input": "2022-01-09T05:12:39.036356Z",
     "iopub.status.busy": "2022-01-09T05:12:39.035683Z",
     "iopub.status.idle": "2022-01-09T05:12:39.052714Z",
     "shell.execute_reply": "2022-01-09T05:12:39.053210Z",
     "shell.execute_reply.started": "2022-01-09T05:08:20.991749Z"
    },
    "papermill": {
     "duration": 0.074894,
     "end_time": "2022-01-09T05:12:39.053384",
     "exception": false,
     "start_time": "2022-01-09T05:12:38.978490",
     "status": "completed"
    },
    "tags": []
   },
   "outputs": [
    {
     "data": {
      "text/html": [
       "<div>\n",
       "<style scoped>\n",
       "    .dataframe tbody tr th:only-of-type {\n",
       "        vertical-align: middle;\n",
       "    }\n",
       "\n",
       "    .dataframe tbody tr th {\n",
       "        vertical-align: top;\n",
       "    }\n",
       "\n",
       "    .dataframe thead th {\n",
       "        text-align: right;\n",
       "    }\n",
       "</style>\n",
       "<table border=\"1\" class=\"dataframe\">\n",
       "  <thead>\n",
       "    <tr style=\"text-align: right;\">\n",
       "      <th></th>\n",
       "      <th>train_id</th>\n",
       "      <th>name</th>\n",
       "      <th>item_condition_id</th>\n",
       "      <th>category_name</th>\n",
       "      <th>brand_name</th>\n",
       "      <th>price</th>\n",
       "      <th>shipping</th>\n",
       "      <th>item_description</th>\n",
       "    </tr>\n",
       "  </thead>\n",
       "  <tbody>\n",
       "    <tr>\n",
       "      <th>0</th>\n",
       "      <td>0</td>\n",
       "      <td>MLB Cincinnati Reds T Shirt Size XL</td>\n",
       "      <td>3</td>\n",
       "      <td>Men/Tops/T-shirts</td>\n",
       "      <td>NaN</td>\n",
       "      <td>10.0</td>\n",
       "      <td>1</td>\n",
       "      <td>No description yet</td>\n",
       "    </tr>\n",
       "    <tr>\n",
       "      <th>1</th>\n",
       "      <td>1</td>\n",
       "      <td>Razer BlackWidow Chroma Keyboard</td>\n",
       "      <td>3</td>\n",
       "      <td>Electronics/Computers &amp; Tablets/Components &amp; P...</td>\n",
       "      <td>Razer</td>\n",
       "      <td>52.0</td>\n",
       "      <td>0</td>\n",
       "      <td>This keyboard is in great condition and works ...</td>\n",
       "    </tr>\n",
       "    <tr>\n",
       "      <th>2</th>\n",
       "      <td>2</td>\n",
       "      <td>AVA-VIV Blouse</td>\n",
       "      <td>1</td>\n",
       "      <td>Women/Tops &amp; Blouses/Blouse</td>\n",
       "      <td>Target</td>\n",
       "      <td>10.0</td>\n",
       "      <td>1</td>\n",
       "      <td>Adorable top with a hint of lace and a key hol...</td>\n",
       "    </tr>\n",
       "    <tr>\n",
       "      <th>3</th>\n",
       "      <td>3</td>\n",
       "      <td>Leather Horse Statues</td>\n",
       "      <td>1</td>\n",
       "      <td>Home/Home Décor/Home Décor Accents</td>\n",
       "      <td>NaN</td>\n",
       "      <td>35.0</td>\n",
       "      <td>1</td>\n",
       "      <td>New with tags. Leather horses. Retail for [rm]...</td>\n",
       "    </tr>\n",
       "    <tr>\n",
       "      <th>4</th>\n",
       "      <td>4</td>\n",
       "      <td>24K GOLD plated rose</td>\n",
       "      <td>1</td>\n",
       "      <td>Women/Jewelry/Necklaces</td>\n",
       "      <td>NaN</td>\n",
       "      <td>44.0</td>\n",
       "      <td>0</td>\n",
       "      <td>Complete with certificate of authenticity</td>\n",
       "    </tr>\n",
       "    <tr>\n",
       "      <th>5</th>\n",
       "      <td>5</td>\n",
       "      <td>Bundled items requested for Ruie</td>\n",
       "      <td>3</td>\n",
       "      <td>Women/Other/Other</td>\n",
       "      <td>NaN</td>\n",
       "      <td>59.0</td>\n",
       "      <td>0</td>\n",
       "      <td>Banana republic bottoms, Candies skirt with ma...</td>\n",
       "    </tr>\n",
       "    <tr>\n",
       "      <th>6</th>\n",
       "      <td>6</td>\n",
       "      <td>Acacia pacific tides santorini top</td>\n",
       "      <td>3</td>\n",
       "      <td>Women/Swimwear/Two-Piece</td>\n",
       "      <td>Acacia Swimwear</td>\n",
       "      <td>64.0</td>\n",
       "      <td>0</td>\n",
       "      <td>Size small but straps slightly shortened to fi...</td>\n",
       "    </tr>\n",
       "    <tr>\n",
       "      <th>7</th>\n",
       "      <td>7</td>\n",
       "      <td>Girls cheer and tumbling bundle of 7</td>\n",
       "      <td>3</td>\n",
       "      <td>Sports &amp; Outdoors/Apparel/Girls</td>\n",
       "      <td>Soffe</td>\n",
       "      <td>6.0</td>\n",
       "      <td>1</td>\n",
       "      <td>You get three pairs of Sophie cheer shorts siz...</td>\n",
       "    </tr>\n",
       "    <tr>\n",
       "      <th>8</th>\n",
       "      <td>8</td>\n",
       "      <td>Girls Nike Pro shorts</td>\n",
       "      <td>3</td>\n",
       "      <td>Sports &amp; Outdoors/Apparel/Girls</td>\n",
       "      <td>Nike</td>\n",
       "      <td>19.0</td>\n",
       "      <td>0</td>\n",
       "      <td>Girls Size small Plus green. Three shorts total.</td>\n",
       "    </tr>\n",
       "    <tr>\n",
       "      <th>9</th>\n",
       "      <td>9</td>\n",
       "      <td>Porcelain clown doll checker pants VTG</td>\n",
       "      <td>3</td>\n",
       "      <td>Vintage &amp; Collectibles/Collectibles/Doll</td>\n",
       "      <td>NaN</td>\n",
       "      <td>8.0</td>\n",
       "      <td>0</td>\n",
       "      <td>I realized his pants are on backwards after th...</td>\n",
       "    </tr>\n",
       "  </tbody>\n",
       "</table>\n",
       "</div>"
      ],
      "text/plain": [
       "   train_id                                    name  item_condition_id  \\\n",
       "0         0     MLB Cincinnati Reds T Shirt Size XL                  3   \n",
       "1         1        Razer BlackWidow Chroma Keyboard                  3   \n",
       "2         2                          AVA-VIV Blouse                  1   \n",
       "3         3                   Leather Horse Statues                  1   \n",
       "4         4                    24K GOLD plated rose                  1   \n",
       "5         5        Bundled items requested for Ruie                  3   \n",
       "6         6      Acacia pacific tides santorini top                  3   \n",
       "7         7    Girls cheer and tumbling bundle of 7                  3   \n",
       "8         8                   Girls Nike Pro shorts                  3   \n",
       "9         9  Porcelain clown doll checker pants VTG                  3   \n",
       "\n",
       "                                       category_name       brand_name  price  \\\n",
       "0                                  Men/Tops/T-shirts              NaN   10.0   \n",
       "1  Electronics/Computers & Tablets/Components & P...            Razer   52.0   \n",
       "2                        Women/Tops & Blouses/Blouse           Target   10.0   \n",
       "3                 Home/Home Décor/Home Décor Accents              NaN   35.0   \n",
       "4                            Women/Jewelry/Necklaces              NaN   44.0   \n",
       "5                                  Women/Other/Other              NaN   59.0   \n",
       "6                           Women/Swimwear/Two-Piece  Acacia Swimwear   64.0   \n",
       "7                    Sports & Outdoors/Apparel/Girls            Soffe    6.0   \n",
       "8                    Sports & Outdoors/Apparel/Girls             Nike   19.0   \n",
       "9           Vintage & Collectibles/Collectibles/Doll              NaN    8.0   \n",
       "\n",
       "   shipping                                   item_description  \n",
       "0         1                                 No description yet  \n",
       "1         0  This keyboard is in great condition and works ...  \n",
       "2         1  Adorable top with a hint of lace and a key hol...  \n",
       "3         1  New with tags. Leather horses. Retail for [rm]...  \n",
       "4         0          Complete with certificate of authenticity  \n",
       "5         0  Banana republic bottoms, Candies skirt with ma...  \n",
       "6         0  Size small but straps slightly shortened to fi...  \n",
       "7         1  You get three pairs of Sophie cheer shorts siz...  \n",
       "8         0   Girls Size small Plus green. Three shorts total.  \n",
       "9         0  I realized his pants are on backwards after th...  "
      ]
     },
     "execution_count": 4,
     "metadata": {},
     "output_type": "execute_result"
    }
   ],
   "source": [
    "#List of first 10 items: \n",
    "train.head(10)"
   ]
  },
  {
   "cell_type": "code",
   "execution_count": 5,
   "id": "8dcd2f30",
   "metadata": {
    "execution": {
     "iopub.execute_input": "2022-01-09T05:12:39.178134Z",
     "iopub.status.busy": "2022-01-09T05:12:39.171015Z",
     "iopub.status.idle": "2022-01-09T05:12:39.182148Z",
     "shell.execute_reply": "2022-01-09T05:12:39.181408Z",
     "shell.execute_reply.started": "2022-01-09T05:08:21.020806Z"
    },
    "papermill": {
     "duration": 0.077048,
     "end_time": "2022-01-09T05:12:39.182338",
     "exception": false,
     "start_time": "2022-01-09T05:12:39.105290",
     "status": "completed"
    },
    "tags": []
   },
   "outputs": [
    {
     "name": "stdout",
     "output_type": "stream",
     "text": [
      "<class 'pandas.core.frame.DataFrame'>\n",
      "RangeIndex: 3460725 entries, 0 to 3460724\n",
      "Data columns (total 7 columns):\n",
      " #   Column             Dtype \n",
      "---  ------             ----- \n",
      " 0   test_id            int64 \n",
      " 1   name               object\n",
      " 2   item_condition_id  int64 \n",
      " 3   category_name      object\n",
      " 4   brand_name         object\n",
      " 5   shipping           int64 \n",
      " 6   item_description   object\n",
      "dtypes: int64(3), object(4)\n",
      "memory usage: 184.8+ MB\n"
     ]
    }
   ],
   "source": [
    "# Check the information in the test file\n",
    "test.info()"
   ]
  },
  {
   "cell_type": "code",
   "execution_count": 6,
   "id": "61f8a153",
   "metadata": {
    "execution": {
     "iopub.execute_input": "2022-01-09T05:12:39.288914Z",
     "iopub.status.busy": "2022-01-09T05:12:39.288234Z",
     "iopub.status.idle": "2022-01-09T05:12:39.300410Z",
     "shell.execute_reply": "2022-01-09T05:12:39.300881Z",
     "shell.execute_reply.started": "2022-01-09T05:08:21.034004Z"
    },
    "papermill": {
     "duration": 0.067068,
     "end_time": "2022-01-09T05:12:39.301055",
     "exception": false,
     "start_time": "2022-01-09T05:12:39.233987",
     "status": "completed"
    },
    "tags": []
   },
   "outputs": [
    {
     "data": {
      "text/html": [
       "<div>\n",
       "<style scoped>\n",
       "    .dataframe tbody tr th:only-of-type {\n",
       "        vertical-align: middle;\n",
       "    }\n",
       "\n",
       "    .dataframe tbody tr th {\n",
       "        vertical-align: top;\n",
       "    }\n",
       "\n",
       "    .dataframe thead th {\n",
       "        text-align: right;\n",
       "    }\n",
       "</style>\n",
       "<table border=\"1\" class=\"dataframe\">\n",
       "  <thead>\n",
       "    <tr style=\"text-align: right;\">\n",
       "      <th></th>\n",
       "      <th>test_id</th>\n",
       "      <th>name</th>\n",
       "      <th>item_condition_id</th>\n",
       "      <th>category_name</th>\n",
       "      <th>brand_name</th>\n",
       "      <th>shipping</th>\n",
       "      <th>item_description</th>\n",
       "    </tr>\n",
       "  </thead>\n",
       "  <tbody>\n",
       "    <tr>\n",
       "      <th>0</th>\n",
       "      <td>0</td>\n",
       "      <td>Breast cancer \"I fight like a girl\" ring</td>\n",
       "      <td>1</td>\n",
       "      <td>Women/Jewelry/Rings</td>\n",
       "      <td>NaN</td>\n",
       "      <td>1</td>\n",
       "      <td>Size 7</td>\n",
       "    </tr>\n",
       "    <tr>\n",
       "      <th>1</th>\n",
       "      <td>1</td>\n",
       "      <td>25 pcs NEW 7.5\"x12\" Kraft Bubble Mailers</td>\n",
       "      <td>1</td>\n",
       "      <td>Other/Office supplies/Shipping Supplies</td>\n",
       "      <td>NaN</td>\n",
       "      <td>1</td>\n",
       "      <td>25 pcs NEW 7.5\"x12\" Kraft Bubble Mailers Lined...</td>\n",
       "    </tr>\n",
       "    <tr>\n",
       "      <th>2</th>\n",
       "      <td>2</td>\n",
       "      <td>Coach bag</td>\n",
       "      <td>1</td>\n",
       "      <td>Vintage &amp; Collectibles/Bags and Purses/Handbag</td>\n",
       "      <td>Coach</td>\n",
       "      <td>1</td>\n",
       "      <td>Brand new coach bag. Bought for [rm] at a Coac...</td>\n",
       "    </tr>\n",
       "    <tr>\n",
       "      <th>3</th>\n",
       "      <td>3</td>\n",
       "      <td>Floral Kimono</td>\n",
       "      <td>2</td>\n",
       "      <td>Women/Sweaters/Cardigan</td>\n",
       "      <td>NaN</td>\n",
       "      <td>0</td>\n",
       "      <td>-floral kimono -never worn -lightweight and pe...</td>\n",
       "    </tr>\n",
       "    <tr>\n",
       "      <th>4</th>\n",
       "      <td>4</td>\n",
       "      <td>Life after Death</td>\n",
       "      <td>3</td>\n",
       "      <td>Other/Books/Religion &amp; Spirituality</td>\n",
       "      <td>NaN</td>\n",
       "      <td>1</td>\n",
       "      <td>Rediscovering life after the loss of a loved o...</td>\n",
       "    </tr>\n",
       "    <tr>\n",
       "      <th>5</th>\n",
       "      <td>5</td>\n",
       "      <td>iPhone 6 Plus or 6s Plus Vodka pink case</td>\n",
       "      <td>1</td>\n",
       "      <td>Electronics/Cell Phones &amp; Accessories/Cases, C...</td>\n",
       "      <td>NaN</td>\n",
       "      <td>1</td>\n",
       "      <td>One Absolut Vodka in Pink for iPhone 6 Plus an...</td>\n",
       "    </tr>\n",
       "    <tr>\n",
       "      <th>6</th>\n",
       "      <td>6</td>\n",
       "      <td>Vintage Cameo Pendant &amp; Brooch Pin</td>\n",
       "      <td>3</td>\n",
       "      <td>Women/Jewelry/Necklaces</td>\n",
       "      <td>Vintage</td>\n",
       "      <td>1</td>\n",
       "      <td>Two vintage Cameo pieces. 1. Silver metal Lock...</td>\n",
       "    </tr>\n",
       "    <tr>\n",
       "      <th>7</th>\n",
       "      <td>7</td>\n",
       "      <td>Rose Gold Stainless Steel Quartz Watch</td>\n",
       "      <td>1</td>\n",
       "      <td>Women/Women's Accessories/Watches</td>\n",
       "      <td>NaN</td>\n",
       "      <td>1</td>\n",
       "      <td>Brand new Price firm No trades Box included wi...</td>\n",
       "    </tr>\n",
       "    <tr>\n",
       "      <th>8</th>\n",
       "      <td>8</td>\n",
       "      <td>Daisy Marc Jacobs 3.4oz</td>\n",
       "      <td>3</td>\n",
       "      <td>Beauty/Fragrance/Women</td>\n",
       "      <td>MARC JACOBS</td>\n",
       "      <td>0</td>\n",
       "      <td>Brand new No box 100% authentic Firm price NO ...</td>\n",
       "    </tr>\n",
       "    <tr>\n",
       "      <th>9</th>\n",
       "      <td>9</td>\n",
       "      <td>Rose Brushes and Silicone Sponge</td>\n",
       "      <td>1</td>\n",
       "      <td>Beauty/Tools &amp; Accessories/Makeup Brushes &amp; Tools</td>\n",
       "      <td>NaN</td>\n",
       "      <td>1</td>\n",
       "      <td>All new. 12 pcs makeup brushes and one Silicon...</td>\n",
       "    </tr>\n",
       "  </tbody>\n",
       "</table>\n",
       "</div>"
      ],
      "text/plain": [
       "   test_id                                      name  item_condition_id  \\\n",
       "0        0  Breast cancer \"I fight like a girl\" ring                  1   \n",
       "1        1  25 pcs NEW 7.5\"x12\" Kraft Bubble Mailers                  1   \n",
       "2        2                                 Coach bag                  1   \n",
       "3        3                             Floral Kimono                  2   \n",
       "4        4                          Life after Death                  3   \n",
       "5        5  iPhone 6 Plus or 6s Plus Vodka pink case                  1   \n",
       "6        6        Vintage Cameo Pendant & Brooch Pin                  3   \n",
       "7        7    Rose Gold Stainless Steel Quartz Watch                  1   \n",
       "8        8                   Daisy Marc Jacobs 3.4oz                  3   \n",
       "9        9          Rose Brushes and Silicone Sponge                  1   \n",
       "\n",
       "                                       category_name   brand_name  shipping  \\\n",
       "0                                Women/Jewelry/Rings          NaN         1   \n",
       "1            Other/Office supplies/Shipping Supplies          NaN         1   \n",
       "2     Vintage & Collectibles/Bags and Purses/Handbag        Coach         1   \n",
       "3                            Women/Sweaters/Cardigan          NaN         0   \n",
       "4                Other/Books/Religion & Spirituality          NaN         1   \n",
       "5  Electronics/Cell Phones & Accessories/Cases, C...          NaN         1   \n",
       "6                            Women/Jewelry/Necklaces      Vintage         1   \n",
       "7                  Women/Women's Accessories/Watches          NaN         1   \n",
       "8                             Beauty/Fragrance/Women  MARC JACOBS         0   \n",
       "9  Beauty/Tools & Accessories/Makeup Brushes & Tools          NaN         1   \n",
       "\n",
       "                                    item_description  \n",
       "0                                             Size 7  \n",
       "1  25 pcs NEW 7.5\"x12\" Kraft Bubble Mailers Lined...  \n",
       "2  Brand new coach bag. Bought for [rm] at a Coac...  \n",
       "3  -floral kimono -never worn -lightweight and pe...  \n",
       "4  Rediscovering life after the loss of a loved o...  \n",
       "5  One Absolut Vodka in Pink for iPhone 6 Plus an...  \n",
       "6  Two vintage Cameo pieces. 1. Silver metal Lock...  \n",
       "7  Brand new Price firm No trades Box included wi...  \n",
       "8  Brand new No box 100% authentic Firm price NO ...  \n",
       "9  All new. 12 pcs makeup brushes and one Silicon...  "
      ]
     },
     "execution_count": 6,
     "metadata": {},
     "output_type": "execute_result"
    }
   ],
   "source": [
    "test.head(10)"
   ]
  },
  {
   "cell_type": "markdown",
   "id": "db59cd8f",
   "metadata": {
    "papermill": {
     "duration": 0.051385,
     "end_time": "2022-01-09T05:12:39.405837",
     "exception": false,
     "start_time": "2022-01-09T05:12:39.354452",
     "status": "completed"
    },
    "tags": []
   },
   "source": [
    "-The train file has 1482535 product and the test file has 3460725 product\n",
    "\n",
    "-We can see that in the train file there is an additional price column compared to the test file\n",
    "\n",
    "-In an item catalogue with multiple items with null data in column brand_name (shown as NaN)"
   ]
  },
  {
   "cell_type": "markdown",
   "id": "89b2e82b",
   "metadata": {
    "papermill": {
     "duration": 0.052652,
     "end_time": "2022-01-09T05:12:39.509851",
     "exception": false,
     "start_time": "2022-01-09T05:12:39.457199",
     "status": "completed"
    },
    "tags": []
   },
   "source": [
    "**II. INPUT DATA PROCESSING**\n",
    "\n",
    "1.Check the data:"
   ]
  },
  {
   "cell_type": "code",
   "execution_count": 7,
   "id": "d67367a8",
   "metadata": {
    "execution": {
     "iopub.execute_input": "2022-01-09T05:12:39.617287Z",
     "iopub.status.busy": "2022-01-09T05:12:39.616619Z",
     "iopub.status.idle": "2022-01-09T05:12:40.065029Z",
     "shell.execute_reply": "2022-01-09T05:12:40.064056Z",
     "shell.execute_reply.started": "2022-01-09T05:08:21.058856Z"
    },
    "papermill": {
     "duration": 0.5026,
     "end_time": "2022-01-09T05:12:40.065182",
     "exception": false,
     "start_time": "2022-01-09T05:12:39.562582",
     "status": "completed"
    },
    "tags": []
   },
   "outputs": [
    {
     "data": {
      "image/png": "[encoded data removed]",
      "text/plain": [
       "<Figure size 2000x500 with 1 Axes>"
      ]
     },
     "metadata": {},
     "output_type": "display_data"
    }
   ],
   "source": [
    "unique_brands = train['brand_name'].value_counts()\n",
    "plt.figure(figsize=(20, 5))\n",
    "sns.barplot(x=unique_brands.index[1:10], y=unique_brands[1:10])\n",
    "plt.xlabel('Brand name')\n",
    "plt.ylabel('Product number')\n",
    "plt.show()"
   ]
  },
  {
   "cell_type": "code",
   "execution_count": 8,
   "id": "7b3c93ae",
   "metadata": {
    "execution": {
     "iopub.execute_input": "2022-01-09T05:12:40.197116Z",
     "iopub.status.busy": "2022-01-09T05:12:40.193691Z",
     "iopub.status.idle": "2022-01-09T05:12:40.892571Z",
     "shell.execute_reply": "2022-01-09T05:12:40.892042Z",
     "shell.execute_reply.started": "2022-01-09T05:08:21.533763Z"
    },
    "papermill": {
     "duration": 0.773848,
     "end_time": "2022-01-09T05:12:40.892718",
     "exception": false,
     "start_time": "2022-01-09T05:12:40.118870",
     "status": "completed"
    },
    "tags": []
   },
   "outputs": [
    {
     "data": {
      "image/png": "[encoded data removed]",
      "text/plain": [
       "<Figure size 1000x600 with 1 Axes>"
      ]
     },
     "metadata": {},
     "output_type": "display_data"
    }
   ],
   "source": [
    "# Review of the price:\n",
    "fig, ax = plt.subplots(figsize=(10,6))\n",
    "ax.hist(train.price,bins = 30, range = [min(train.price), max(train.price)],label=\"Price\")\n",
    "ax.set_xlabel('Price',fontsize=15)\n",
    "ax.set_ylabel('Frequency',fontsize=15)\n",
    "plt.show()"
   ]
  },
  {
   "cell_type": "markdown",
   "id": "ae86c696",
   "metadata": {
    "papermill": {
     "duration": 0.054817,
     "end_time": "2022-01-09T05:12:41.003423",
     "exception": false,
     "start_time": "2022-01-09T05:12:40.948606",
     "status": "completed"
    },
    "tags": []
   },
   "source": [
    "-We have many concentrated price items below $ 500, the distribution of prices is skewed right\n",
    "\n",
    "-Using a covariate function returns the normal distribution:"
   ]
  },
  {
   "cell_type": "code",
   "execution_count": 9,
   "id": "4ea154ac",
   "metadata": {
    "execution": {
     "iopub.execute_input": "2022-01-09T05:12:41.137552Z",
     "iopub.status.busy": "2022-01-09T05:12:41.136668Z",
     "iopub.status.idle": "2022-01-09T05:12:41.900003Z",
     "shell.execute_reply": "2022-01-09T05:12:41.900502Z",
     "shell.execute_reply.started": "2022-01-09T05:08:22.252880Z"
    },
    "papermill": {
     "duration": 0.833805,
     "end_time": "2022-01-09T05:12:41.900672",
     "exception": false,
     "start_time": "2022-01-09T05:12:41.066867",
     "status": "completed"
    },
    "tags": []
   },
   "outputs": [
    {
     "data": {
      "image/png": "[encoded data removed]",
      "text/plain": [
       "<Figure size 1000x600 with 1 Axes>"
      ]
     },
     "metadata": {},
     "output_type": "display_data"
    }
   ],
   "source": [
    "fig, ax = plt.subplots(figsize=(10,6))\n",
    "ax.hist(np.log1p(train['price']),bins = 30, range = [min(np.log1p(train['price'])), max(np.log1p(train['price']))],label=\"Price\")\n",
    "ax.set_xlabel('log(Price)',fontsize=15)\n",
    "ax.set_ylabel('Frequency',fontsize=15)\n",
    "plt.show()"
   ]
  },
  {
   "cell_type": "markdown",
   "id": "927dc39e",
   "metadata": {
    "papermill": {
     "duration": 0.055298,
     "end_time": "2022-01-09T05:12:42.011138",
     "exception": false,
     "start_time": "2022-01-09T05:12:41.955840",
     "status": "completed"
    },
    "tags": []
   },
   "source": [
    "-Check the condition of the product:"
   ]
  },
  {
   "cell_type": "code",
   "execution_count": 10,
   "id": "e91bc259",
   "metadata": {
    "execution": {
     "iopub.execute_input": "2022-01-09T05:12:42.125616Z",
     "iopub.status.busy": "2022-01-09T05:12:42.124540Z",
     "iopub.status.idle": "2022-01-09T05:12:42.352672Z",
     "shell.execute_reply": "2022-01-09T05:12:42.352132Z",
     "shell.execute_reply.started": "2022-01-09T05:08:23.045648Z"
    },
    "papermill": {
     "duration": 0.286886,
     "end_time": "2022-01-09T05:12:42.352823",
     "exception": false,
     "start_time": "2022-01-09T05:12:42.065937",
     "status": "completed"
    },
    "tags": []
   },
   "outputs": [
    {
     "data": {
      "text/plain": [
       "Text(0.5, 0, 'Product conditions')"
      ]
     },
     "execution_count": 10,
     "metadata": {},
     "output_type": "execute_result"
    },
    {
     "data": {
      "image/png": "[encoded data removed]",
      "text/plain": [
       "<Figure size 1000x500 with 1 Axes>"
      ]
     },
     "metadata": {},
     "output_type": "display_data"
    }
   ],
   "source": [
    "count = train['item_condition_id'].value_counts()\n",
    "plt.figure(figsize=(10, 5))\n",
    "sns.barplot(x=count.index[:5], y=count[:5])\n",
    "plt.ylabel('Number of products')\n",
    "plt.xlabel('Product conditions')"
   ]
  },
  {
   "cell_type": "markdown",
   "id": "105773aa",
   "metadata": {
    "papermill": {
     "duration": 0.05551,
     "end_time": "2022-01-09T05:12:42.464850",
     "exception": false,
     "start_time": "2022-01-09T05:12:42.409340",
     "status": "completed"
    },
    "tags": []
   },
   "source": [
    "-Check shipping fees:"
   ]
  },
  {
   "cell_type": "code",
   "execution_count": 11,
   "id": "6c168f0b",
   "metadata": {
    "execution": {
     "iopub.execute_input": "2022-01-09T05:12:42.580540Z",
     "iopub.status.busy": "2022-01-09T05:12:42.579937Z",
     "iopub.status.idle": "2022-01-09T05:12:42.784681Z",
     "shell.execute_reply": "2022-01-09T05:12:42.785239Z",
     "shell.execute_reply.started": "2022-01-09T05:08:23.284608Z"
    },
    "papermill": {
     "duration": 0.264189,
     "end_time": "2022-01-09T05:12:42.785408",
     "exception": false,
     "start_time": "2022-01-09T05:12:42.521219",
     "status": "completed"
    },
    "tags": []
   },
   "outputs": [
    {
     "data": {
      "text/plain": [
       "Text(0.5, 0, 'Shipping fee')"
      ]
     },
     "execution_count": 11,
     "metadata": {},
     "output_type": "execute_result"
    },
    {
     "data": {
      "image/png": "[encoded data removed]",
      "text/plain": [
       "<Figure size 1000x500 with 1 Axes>"
      ]
     },
     "metadata": {},
     "output_type": "display_data"
    }
   ],
   "source": [
    "count = train['shipping'].value_counts()\n",
    "plt.figure(figsize=(10, 5))\n",
    "sns.barplot(x=count.index[:2], y=count[:2])\n",
    "plt.ylabel('Number of products')\n",
    "plt.xlabel('Shipping fee')"
   ]
  },
  {
   "cell_type": "markdown",
   "id": "5a9dd4d9",
   "metadata": {
    "papermill": {
     "duration": 0.057264,
     "end_time": "2022-01-09T05:12:42.900538",
     "exception": false,
     "start_time": "2022-01-09T05:12:42.843274",
     "status": "completed"
    },
    "tags": []
   },
   "source": [
    "-The majority of sps without shipping fees account for about 55% and the remaining 45% do not have ships;"
   ]
  },
  {
   "cell_type": "markdown",
   "id": "d16e7bc9",
   "metadata": {
    "papermill": {
     "duration": 0.057253,
     "end_time": "2022-01-09T05:12:43.015480",
     "exception": false,
     "start_time": "2022-01-09T05:12:42.958227",
     "status": "completed"
    },
    "tags": []
   },
   "source": [
    "**III.Data processing:**\n",
    "\n",
    "-In column category_name there are items separated by the '/' sign, so we will divide into 3 columns for easy handling"
   ]
  },
  {
   "cell_type": "code",
   "execution_count": 12,
   "id": "8e403e06",
   "metadata": {
    "execution": {
     "iopub.execute_input": "2022-01-09T05:12:43.139952Z",
     "iopub.status.busy": "2022-01-09T05:12:43.139248Z",
     "iopub.status.idle": "2022-01-09T05:13:01.240432Z",
     "shell.execute_reply": "2022-01-09T05:13:01.240971Z",
     "shell.execute_reply.started": "2022-01-09T05:08:23.506714Z"
    },
    "papermill": {
     "duration": 18.167605,
     "end_time": "2022-01-09T05:13:01.241165",
     "exception": false,
     "start_time": "2022-01-09T05:12:43.073560",
     "status": "completed"
    },
    "tags": []
   },
   "outputs": [
    {
     "data": {
      "text/html": [
       "<div>\n",
       "<style scoped>\n",
       "    .dataframe tbody tr th:only-of-type {\n",
       "        vertical-align: middle;\n",
       "    }\n",
       "\n",
       "    .dataframe tbody tr th {\n",
       "        vertical-align: top;\n",
       "    }\n",
       "\n",
       "    .dataframe thead th {\n",
       "        text-align: right;\n",
       "    }\n",
       "</style>\n",
       "<table border=\"1\" class=\"dataframe\">\n",
       "  <thead>\n",
       "    <tr style=\"text-align: right;\">\n",
       "      <th></th>\n",
       "      <th>train_id</th>\n",
       "      <th>name</th>\n",
       "      <th>item_condition_id</th>\n",
       "      <th>category_name</th>\n",
       "      <th>brand_name</th>\n",
       "      <th>price</th>\n",
       "      <th>shipping</th>\n",
       "      <th>item_description</th>\n",
       "      <th>category_1</th>\n",
       "      <th>category_2</th>\n",
       "      <th>category_3</th>\n",
       "    </tr>\n",
       "  </thead>\n",
       "  <tbody>\n",
       "    <tr>\n",
       "      <th>0</th>\n",
       "      <td>0</td>\n",
       "      <td>MLB Cincinnati Reds T Shirt Size XL</td>\n",
       "      <td>3</td>\n",
       "      <td>Men/Tops/T-shirts</td>\n",
       "      <td>NaN</td>\n",
       "      <td>10.0</td>\n",
       "      <td>1</td>\n",
       "      <td>No description yet</td>\n",
       "      <td>Men</td>\n",
       "      <td>Tops</td>\n",
       "      <td>T-shirts</td>\n",
       "    </tr>\n",
       "    <tr>\n",
       "      <th>1</th>\n",
       "      <td>1</td>\n",
       "      <td>Razer BlackWidow Chroma Keyboard</td>\n",
       "      <td>3</td>\n",
       "      <td>Electronics/Computers &amp; Tablets/Components &amp; P...</td>\n",
       "      <td>Razer</td>\n",
       "      <td>52.0</td>\n",
       "      <td>0</td>\n",
       "      <td>This keyboard is in great condition and works ...</td>\n",
       "      <td>Electronics</td>\n",
       "      <td>Computers &amp; Tablets</td>\n",
       "      <td>Components &amp; Parts</td>\n",
       "    </tr>\n",
       "    <tr>\n",
       "      <th>2</th>\n",
       "      <td>2</td>\n",
       "      <td>AVA-VIV Blouse</td>\n",
       "      <td>1</td>\n",
       "      <td>Women/Tops &amp; Blouses/Blouse</td>\n",
       "      <td>Target</td>\n",
       "      <td>10.0</td>\n",
       "      <td>1</td>\n",
       "      <td>Adorable top with a hint of lace and a key hol...</td>\n",
       "      <td>Women</td>\n",
       "      <td>Tops &amp; Blouses</td>\n",
       "      <td>Blouse</td>\n",
       "    </tr>\n",
       "    <tr>\n",
       "      <th>3</th>\n",
       "      <td>3</td>\n",
       "      <td>Leather Horse Statues</td>\n",
       "      <td>1</td>\n",
       "      <td>Home/Home Décor/Home Décor Accents</td>\n",
       "      <td>NaN</td>\n",
       "      <td>35.0</td>\n",
       "      <td>1</td>\n",
       "      <td>New with tags. Leather horses. Retail for [rm]...</td>\n",
       "      <td>Home</td>\n",
       "      <td>Home Décor</td>\n",
       "      <td>Home Décor Accents</td>\n",
       "    </tr>\n",
       "    <tr>\n",
       "      <th>4</th>\n",
       "      <td>4</td>\n",
       "      <td>24K GOLD plated rose</td>\n",
       "      <td>1</td>\n",
       "      <td>Women/Jewelry/Necklaces</td>\n",
       "      <td>NaN</td>\n",
       "      <td>44.0</td>\n",
       "      <td>0</td>\n",
       "      <td>Complete with certificate of authenticity</td>\n",
       "      <td>Women</td>\n",
       "      <td>Jewelry</td>\n",
       "      <td>Necklaces</td>\n",
       "    </tr>\n",
       "  </tbody>\n",
       "</table>\n",
       "</div>"
      ],
      "text/plain": [
       "   train_id                                 name  item_condition_id  \\\n",
       "0         0  MLB Cincinnati Reds T Shirt Size XL                  3   \n",
       "1         1     Razer BlackWidow Chroma Keyboard                  3   \n",
       "2         2                       AVA-VIV Blouse                  1   \n",
       "3         3                Leather Horse Statues                  1   \n",
       "4         4                 24K GOLD plated rose                  1   \n",
       "\n",
       "                                       category_name brand_name  price  \\\n",
       "0                                  Men/Tops/T-shirts        NaN   10.0   \n",
       "1  Electronics/Computers & Tablets/Components & P...      Razer   52.0   \n",
       "2                        Women/Tops & Blouses/Blouse     Target   10.0   \n",
       "3                 Home/Home Décor/Home Décor Accents        NaN   35.0   \n",
       "4                            Women/Jewelry/Necklaces        NaN   44.0   \n",
       "\n",
       "   shipping                                   item_description   category_1  \\\n",
       "0         1                                 No description yet          Men   \n",
       "1         0  This keyboard is in great condition and works ...  Electronics   \n",
       "2         1  Adorable top with a hint of lace and a key hol...        Women   \n",
       "3         1  New with tags. Leather horses. Retail for [rm]...         Home   \n",
       "4         0          Complete with certificate of authenticity        Women   \n",
       "\n",
       "            category_2          category_3  \n",
       "0                 Tops            T-shirts  \n",
       "1  Computers & Tablets  Components & Parts  \n",
       "2       Tops & Blouses              Blouse  \n",
       "3           Home Décor  Home Décor Accents  \n",
       "4              Jewelry           Necklaces  "
      ]
     },
     "execution_count": 12,
     "metadata": {},
     "output_type": "execute_result"
    }
   ],
   "source": [
    "def split_cat(text):\n",
    "    try: return text.split(\"/\")\n",
    "    except: return (\"None\", \"None\", \"None\")\n",
    "train['category_1'], train['category_2'], train['category_3'] = \\\n",
    "zip(*train['category_name'].apply(lambda x: split_cat(x)))\n",
    "test['category_1'], test['category_2'], test['category_3'] = \\\n",
    "zip(*test['category_name'].apply(lambda x: split_cat(x)))\n",
    "\n",
    "#Review data after splitting\n",
    "train.head(5)\n"
   ]
  },
  {
   "cell_type": "markdown",
   "id": "3771d55f",
   "metadata": {
    "papermill": {
     "duration": 0.058084,
     "end_time": "2022-01-09T05:13:01.358227",
     "exception": false,
     "start_time": "2022-01-09T05:13:01.300143",
     "status": "completed"
    },
    "tags": []
   },
   "source": [
    "-Check the data in the train and test if it is null"
   ]
  },
  {
   "cell_type": "code",
   "execution_count": 13,
   "id": "a6c9663d",
   "metadata": {
    "execution": {
     "iopub.execute_input": "2022-01-09T05:13:01.482173Z",
     "iopub.status.busy": "2022-01-09T05:13:01.481398Z",
     "iopub.status.idle": "2022-01-09T05:13:02.691976Z",
     "shell.execute_reply": "2022-01-09T05:13:02.692503Z",
     "shell.execute_reply.started": "2022-01-09T05:08:45.970972Z"
    },
    "papermill": {
     "duration": 1.275878,
     "end_time": "2022-01-09T05:13:02.692668",
     "exception": false,
     "start_time": "2022-01-09T05:13:01.416790",
     "status": "completed"
    },
    "tags": []
   },
   "outputs": [
    {
     "data": {
      "text/plain": [
       "train_id                  0\n",
       "name                      0\n",
       "item_condition_id         0\n",
       "category_name          6327\n",
       "brand_name           632682\n",
       "price                     0\n",
       "shipping                  0\n",
       "item_description          4\n",
       "category_1                0\n",
       "category_2                0\n",
       "category_3                0\n",
       "dtype: int64"
      ]
     },
     "execution_count": 13,
     "metadata": {},
     "output_type": "execute_result"
    }
   ],
   "source": [
    "train.isnull().sum()"
   ]
  },
  {
   "cell_type": "code",
   "execution_count": 14,
   "id": "bb4dcdc4",
   "metadata": {
    "execution": {
     "iopub.execute_input": "2022-01-09T05:13:02.824118Z",
     "iopub.status.busy": "2022-01-09T05:13:02.823192Z",
     "iopub.status.idle": "2022-01-09T05:13:05.692476Z",
     "shell.execute_reply": "2022-01-09T05:13:05.691855Z",
     "shell.execute_reply.started": "2022-01-09T05:08:47.225697Z"
    },
    "papermill": {
     "duration": 2.940746,
     "end_time": "2022-01-09T05:13:05.692612",
     "exception": false,
     "start_time": "2022-01-09T05:13:02.751866",
     "status": "completed"
    },
    "tags": []
   },
   "outputs": [
    {
     "data": {
      "text/plain": [
       "test_id                    0\n",
       "name                       0\n",
       "item_condition_id          0\n",
       "category_name          14833\n",
       "brand_name           1476490\n",
       "shipping                   0\n",
       "item_description           6\n",
       "category_1                 0\n",
       "category_2                 0\n",
       "category_3                 0\n",
       "dtype: int64"
      ]
     },
     "execution_count": 14,
     "metadata": {},
     "output_type": "execute_result"
    }
   ],
   "source": [
    "test.isnull().sum()"
   ]
  },
  {
   "cell_type": "markdown",
   "id": "5668dd70",
   "metadata": {
    "papermill": {
     "duration": 0.060406,
     "end_time": "2022-01-09T05:13:05.811955",
     "exception": false,
     "start_time": "2022-01-09T05:13:05.751549",
     "status": "completed"
    },
    "tags": []
   },
   "source": [
    "-We see null data in the train file and the test is concentrated in columns category_name, brand_name and item_description\n",
    "\n",
    "-Null data processing:"
   ]
  },
  {
   "cell_type": "code",
   "execution_count": 15,
   "id": "e0a29fcc",
   "metadata": {
    "execution": {
     "iopub.execute_input": "2022-01-09T05:13:06.063793Z",
     "iopub.status.busy": "2022-01-09T05:13:06.062818Z",
     "iopub.status.idle": "2022-01-09T05:13:07.703527Z",
     "shell.execute_reply": "2022-01-09T05:13:07.702970Z",
     "shell.execute_reply.started": "2022-01-09T05:08:50.108452Z"
    },
    "papermill": {
     "duration": 1.831201,
     "end_time": "2022-01-09T05:13:07.703663",
     "exception": false,
     "start_time": "2022-01-09T05:13:05.872462",
     "status": "completed"
    },
    "tags": []
   },
   "outputs": [],
   "source": [
    "def handle_missing(dataset):\n",
    "    dataset.brand_name.fillna(value=\"None\", inplace=True)\n",
    "    dataset.item_description.fillna(value=\"None\", inplace=True)\n",
    "    dataset.category_name.fillna(value=\"None\", inplace=True)\n",
    "    return (dataset)\n",
    "\n",
    "train = handle_missing(train)\n",
    "test = handle_missing(test)"
   ]
  },
  {
   "cell_type": "code",
   "execution_count": 16,
   "id": "9ae0bed8",
   "metadata": {
    "execution": {
     "iopub.execute_input": "2022-01-09T05:13:07.824580Z",
     "iopub.status.busy": "2022-01-09T05:13:07.823973Z",
     "iopub.status.idle": "2022-01-09T05:13:09.077723Z",
     "shell.execute_reply": "2022-01-09T05:13:09.078257Z",
     "shell.execute_reply.started": "2022-01-09T05:08:51.904906Z"
    },
    "papermill": {
     "duration": 1.315733,
     "end_time": "2022-01-09T05:13:09.078432",
     "exception": false,
     "start_time": "2022-01-09T05:13:07.762699",
     "status": "completed"
    },
    "tags": []
   },
   "outputs": [
    {
     "data": {
      "text/plain": [
       "train_id             0\n",
       "name                 0\n",
       "item_condition_id    0\n",
       "category_name        0\n",
       "brand_name           0\n",
       "price                0\n",
       "shipping             0\n",
       "item_description     0\n",
       "category_1           0\n",
       "category_2           0\n",
       "category_3           0\n",
       "dtype: int64"
      ]
     },
     "execution_count": 16,
     "metadata": {},
     "output_type": "execute_result"
    }
   ],
   "source": [
    "#Check if the data is null\n",
    "train.isnull().sum()"
   ]
  },
  {
   "cell_type": "markdown",
   "id": "49377897",
   "metadata": {
    "papermill": {
     "duration": 0.058933,
     "end_time": "2022-01-09T05:13:09.196691",
     "exception": false,
     "start_time": "2022-01-09T05:13:09.137758",
     "status": "completed"
    },
    "tags": []
   },
   "source": [
    "**IV. EXPERIMENT** "
   ]
  },
  {
   "cell_type": "code",
   "execution_count": 17,
   "id": "5747bf3e",
   "metadata": {
    "execution": {
     "iopub.execute_input": "2022-01-09T05:13:09.318287Z",
     "iopub.status.busy": "2022-01-09T05:13:09.317588Z",
     "iopub.status.idle": "2022-01-09T05:14:21.735222Z",
     "shell.execute_reply": "2022-01-09T05:14:21.735810Z",
     "shell.execute_reply.started": "2022-01-09T05:08:53.190591Z"
    },
    "papermill": {
     "duration": 72.480111,
     "end_time": "2022-01-09T05:14:21.735990",
     "exception": false,
     "start_time": "2022-01-09T05:13:09.255879",
     "status": "completed"
    },
    "tags": []
   },
   "outputs": [
    {
     "name": "stderr",
     "output_type": "stream",
     "text": [
      "C:\\Users\\HP\\AppData\\Local\\Temp\\ipykernel_19756\\1201622078.py:13: FutureWarning: The default value of numeric_only in DataFrameGroupBy.median is deprecated. In a future version, numeric_only will default to False. Either specify numeric_only or select only columns which should be valid for the function.\n",
      "  price_d.update(create_price_d(train.groupby(col, as_index=False).median(), 'median', col))\n",
      "C:\\Users\\HP\\AppData\\Local\\Temp\\ipykernel_19756\\1201622078.py:14: FutureWarning: The default value of numeric_only in DataFrameGroupBy.mean is deprecated. In a future version, numeric_only will default to False. Either specify numeric_only or select only columns which should be valid for the function.\n",
      "  price_d.update(create_price_d(train.groupby(col, as_index=False).mean(), 'mean', col))\n",
      "C:\\Users\\HP\\AppData\\Local\\Temp\\ipykernel_19756\\1201622078.py:13: FutureWarning: The default value of numeric_only in DataFrameGroupBy.median is deprecated. In a future version, numeric_only will default to False. Either specify numeric_only or select only columns which should be valid for the function.\n",
      "  price_d.update(create_price_d(train.groupby(col, as_index=False).median(), 'median', col))\n",
      "C:\\Users\\HP\\AppData\\Local\\Temp\\ipykernel_19756\\1201622078.py:14: FutureWarning: The default value of numeric_only in DataFrameGroupBy.mean is deprecated. In a future version, numeric_only will default to False. Either specify numeric_only or select only columns which should be valid for the function.\n",
      "  price_d.update(create_price_d(train.groupby(col, as_index=False).mean(), 'mean', col))\n",
      "C:\\Users\\HP\\AppData\\Local\\Temp\\ipykernel_19756\\1201622078.py:13: FutureWarning: The default value of numeric_only in DataFrameGroupBy.median is deprecated. In a future version, numeric_only will default to False. Either specify numeric_only or select only columns which should be valid for the function.\n",
      "  price_d.update(create_price_d(train.groupby(col, as_index=False).median(), 'median', col))\n",
      "C:\\Users\\HP\\AppData\\Local\\Temp\\ipykernel_19756\\1201622078.py:14: FutureWarning: The default value of numeric_only in DataFrameGroupBy.mean is deprecated. In a future version, numeric_only will default to False. Either specify numeric_only or select only columns which should be valid for the function.\n",
      "  price_d.update(create_price_d(train.groupby(col, as_index=False).mean(), 'mean', col))\n",
      "C:\\Users\\HP\\AppData\\Local\\Temp\\ipykernel_19756\\1201622078.py:13: FutureWarning: The default value of numeric_only in DataFrameGroupBy.median is deprecated. In a future version, numeric_only will default to False. Either specify numeric_only or select only columns which should be valid for the function.\n",
      "  price_d.update(create_price_d(train.groupby(col, as_index=False).median(), 'median', col))\n",
      "C:\\Users\\HP\\AppData\\Local\\Temp\\ipykernel_19756\\1201622078.py:14: FutureWarning: The default value of numeric_only in DataFrameGroupBy.mean is deprecated. In a future version, numeric_only will default to False. Either specify numeric_only or select only columns which should be valid for the function.\n",
      "  price_d.update(create_price_d(train.groupby(col, as_index=False).mean(), 'mean', col))\n",
      "C:\\Users\\HP\\AppData\\Local\\Temp\\ipykernel_19756\\1201622078.py:13: FutureWarning: The default value of numeric_only in DataFrameGroupBy.median is deprecated. In a future version, numeric_only will default to False. Either specify numeric_only or select only columns which should be valid for the function.\n",
      "  price_d.update(create_price_d(train.groupby(col, as_index=False).median(), 'median', col))\n",
      "C:\\Users\\HP\\AppData\\Local\\Temp\\ipykernel_19756\\1201622078.py:14: FutureWarning: The default value of numeric_only in DataFrameGroupBy.mean is deprecated. In a future version, numeric_only will default to False. Either specify numeric_only or select only columns which should be valid for the function.\n",
      "  price_d.update(create_price_d(train.groupby(col, as_index=False).mean(), 'mean', col))\n"
     ]
    }
   ],
   "source": [
    "#Group product names by its price\n",
    "def create_price_d(grouped, operation_name, orig_colname):\n",
    "    price_d = {}\n",
    "    for index, row in grouped.iterrows():\n",
    "        price_d[row[orig_colname]] = row['price']\n",
    "    return {orig_colname + \"_\" + operation_name: price_d}\n",
    "\n",
    "\n",
    "# Generate data to look up prices by product name\n",
    "price_d = {}    \n",
    "for col in ['brand_name','category_1','category_2','category_3' ,'category_name']:\n",
    "    price_d.update(create_price_d(train.groupby(col, as_index=False).min(), 'min', col))\n",
    "    price_d.update(create_price_d(train.groupby(col, as_index=False).median(), 'median', col))\n",
    "    price_d.update(create_price_d(train.groupby(col, as_index=False).mean(), 'mean', col))\n",
    "    price_d.update(create_price_d(train.groupby(col, as_index=False).max(), 'max', col))\n",
    "\n",
    "    \n",
    "#Include columns containing product prices in the data\n",
    "def price_dt(dt, pricedicts):\n",
    "    for col in ['brand_name','category_1','category_2','category_3','category_name']:\n",
    "        for oper in ['_min', '_median', '_mean', '_max']:\n",
    "            dt[col + oper] = dt[col].map(price_d[col + oper])\n",
    "            dt[col + oper] = dt[col + oper].fillna(price_d[col + oper].get('Unknown', 5))\n",
    "\n",
    "price_dt(train, price_dt)\n",
    "price_dt(test, price_dt)"
   ]
  },
  {
   "cell_type": "code",
   "execution_count": 18,
   "id": "2d11e492",
   "metadata": {
    "execution": {
     "iopub.execute_input": "2022-01-09T05:14:21.858928Z",
     "iopub.status.busy": "2022-01-09T05:14:21.858222Z",
     "iopub.status.idle": "2022-01-09T05:14:21.885502Z",
     "shell.execute_reply": "2022-01-09T05:14:21.886006Z",
     "shell.execute_reply.started": "2022-01-09T05:10:08.269677Z"
    },
    "papermill": {
     "duration": 0.090045,
     "end_time": "2022-01-09T05:14:21.886171",
     "exception": false,
     "start_time": "2022-01-09T05:14:21.796126",
     "status": "completed"
    },
    "tags": []
   },
   "outputs": [
    {
     "data": {
      "text/html": [
       "<div>\n",
       "<style scoped>\n",
       "    .dataframe tbody tr th:only-of-type {\n",
       "        vertical-align: middle;\n",
       "    }\n",
       "\n",
       "    .dataframe tbody tr th {\n",
       "        vertical-align: top;\n",
       "    }\n",
       "\n",
       "    .dataframe thead th {\n",
       "        text-align: right;\n",
       "    }\n",
       "</style>\n",
       "<table border=\"1\" class=\"dataframe\">\n",
       "  <thead>\n",
       "    <tr style=\"text-align: right;\">\n",
       "      <th></th>\n",
       "      <th>train_id</th>\n",
       "      <th>name</th>\n",
       "      <th>item_condition_id</th>\n",
       "      <th>category_name</th>\n",
       "      <th>brand_name</th>\n",
       "      <th>price</th>\n",
       "      <th>shipping</th>\n",
       "      <th>item_description</th>\n",
       "      <th>category_1</th>\n",
       "      <th>category_2</th>\n",
       "      <th>...</th>\n",
       "      <th>category_2_mean</th>\n",
       "      <th>category_2_max</th>\n",
       "      <th>category_3_min</th>\n",
       "      <th>category_3_median</th>\n",
       "      <th>category_3_mean</th>\n",
       "      <th>category_3_max</th>\n",
       "      <th>category_name_min</th>\n",
       "      <th>category_name_median</th>\n",
       "      <th>category_name_mean</th>\n",
       "      <th>category_name_max</th>\n",
       "    </tr>\n",
       "  </thead>\n",
       "  <tbody>\n",
       "    <tr>\n",
       "      <th>0</th>\n",
       "      <td>0</td>\n",
       "      <td>MLB Cincinnati Reds T Shirt Size XL</td>\n",
       "      <td>3</td>\n",
       "      <td>Men/Tops/T-shirts</td>\n",
       "      <td>None</td>\n",
       "      <td>10.0</td>\n",
       "      <td>1</td>\n",
       "      <td>No description yet</td>\n",
       "      <td>Men</td>\n",
       "      <td>Tops</td>\n",
       "      <td>...</td>\n",
       "      <td>18.999442</td>\n",
       "      <td>375.0</td>\n",
       "      <td>0.0</td>\n",
       "      <td>14.0</td>\n",
       "      <td>18.352495</td>\n",
       "      <td>309.0</td>\n",
       "      <td>0.0</td>\n",
       "      <td>14.0</td>\n",
       "      <td>18.352495</td>\n",
       "      <td>309.0</td>\n",
       "    </tr>\n",
       "    <tr>\n",
       "      <th>1</th>\n",
       "      <td>1</td>\n",
       "      <td>Razer BlackWidow Chroma Keyboard</td>\n",
       "      <td>3</td>\n",
       "      <td>Electronics/Computers &amp; Tablets/Components &amp; P...</td>\n",
       "      <td>Razer</td>\n",
       "      <td>52.0</td>\n",
       "      <td>0</td>\n",
       "      <td>This keyboard is in great condition and works ...</td>\n",
       "      <td>Electronics</td>\n",
       "      <td>Computers &amp; Tablets</td>\n",
       "      <td>...</td>\n",
       "      <td>87.887754</td>\n",
       "      <td>1900.0</td>\n",
       "      <td>3.0</td>\n",
       "      <td>25.0</td>\n",
       "      <td>42.913900</td>\n",
       "      <td>750.0</td>\n",
       "      <td>3.0</td>\n",
       "      <td>25.0</td>\n",
       "      <td>42.913900</td>\n",
       "      <td>750.0</td>\n",
       "    </tr>\n",
       "    <tr>\n",
       "      <th>2</th>\n",
       "      <td>2</td>\n",
       "      <td>AVA-VIV Blouse</td>\n",
       "      <td>1</td>\n",
       "      <td>Women/Tops &amp; Blouses/Blouse</td>\n",
       "      <td>Target</td>\n",
       "      <td>10.0</td>\n",
       "      <td>1</td>\n",
       "      <td>Adorable top with a hint of lace and a key hol...</td>\n",
       "      <td>Women</td>\n",
       "      <td>Tops &amp; Blouses</td>\n",
       "      <td>...</td>\n",
       "      <td>18.237514</td>\n",
       "      <td>1525.0</td>\n",
       "      <td>0.0</td>\n",
       "      <td>12.0</td>\n",
       "      <td>15.659676</td>\n",
       "      <td>329.0</td>\n",
       "      <td>0.0</td>\n",
       "      <td>12.0</td>\n",
       "      <td>15.660102</td>\n",
       "      <td>329.0</td>\n",
       "    </tr>\n",
       "    <tr>\n",
       "      <th>3</th>\n",
       "      <td>3</td>\n",
       "      <td>Leather Horse Statues</td>\n",
       "      <td>1</td>\n",
       "      <td>Home/Home Décor/Home Décor Accents</td>\n",
       "      <td>None</td>\n",
       "      <td>35.0</td>\n",
       "      <td>1</td>\n",
       "      <td>New with tags. Leather horses. Retail for [rm]...</td>\n",
       "      <td>Home</td>\n",
       "      <td>Home Décor</td>\n",
       "      <td>...</td>\n",
       "      <td>21.566301</td>\n",
       "      <td>848.0</td>\n",
       "      <td>0.0</td>\n",
       "      <td>16.0</td>\n",
       "      <td>22.185020</td>\n",
       "      <td>848.0</td>\n",
       "      <td>0.0</td>\n",
       "      <td>16.0</td>\n",
       "      <td>22.185020</td>\n",
       "      <td>848.0</td>\n",
       "    </tr>\n",
       "    <tr>\n",
       "      <th>4</th>\n",
       "      <td>4</td>\n",
       "      <td>24K GOLD plated rose</td>\n",
       "      <td>1</td>\n",
       "      <td>Women/Jewelry/Necklaces</td>\n",
       "      <td>None</td>\n",
       "      <td>44.0</td>\n",
       "      <td>0</td>\n",
       "      <td>Complete with certificate of authenticity</td>\n",
       "      <td>Women</td>\n",
       "      <td>Jewelry</td>\n",
       "      <td>...</td>\n",
       "      <td>27.501571</td>\n",
       "      <td>2004.0</td>\n",
       "      <td>0.0</td>\n",
       "      <td>12.0</td>\n",
       "      <td>25.587509</td>\n",
       "      <td>1747.0</td>\n",
       "      <td>0.0</td>\n",
       "      <td>12.0</td>\n",
       "      <td>25.587509</td>\n",
       "      <td>1747.0</td>\n",
       "    </tr>\n",
       "  </tbody>\n",
       "</table>\n",
       "<p>5 rows × 31 columns</p>\n",
       "</div>"
      ],
      "text/plain": [
       "   train_id                                 name  item_condition_id  \\\n",
       "0         0  MLB Cincinnati Reds T Shirt Size XL                  3   \n",
       "1         1     Razer BlackWidow Chroma Keyboard                  3   \n",
       "2         2                       AVA-VIV Blouse                  1   \n",
       "3         3                Leather Horse Statues                  1   \n",
       "4         4                 24K GOLD plated rose                  1   \n",
       "\n",
       "                                       category_name brand_name  price  \\\n",
       "0                                  Men/Tops/T-shirts       None   10.0   \n",
       "1  Electronics/Computers & Tablets/Components & P...      Razer   52.0   \n",
       "2                        Women/Tops & Blouses/Blouse     Target   10.0   \n",
       "3                 Home/Home Décor/Home Décor Accents       None   35.0   \n",
       "4                            Women/Jewelry/Necklaces       None   44.0   \n",
       "\n",
       "   shipping                                   item_description   category_1  \\\n",
       "0         1                                 No description yet          Men   \n",
       "1         0  This keyboard is in great condition and works ...  Electronics   \n",
       "2         1  Adorable top with a hint of lace and a key hol...        Women   \n",
       "3         1  New with tags. Leather horses. Retail for [rm]...         Home   \n",
       "4         0          Complete with certificate of authenticity        Women   \n",
       "\n",
       "            category_2  ... category_2_mean  category_2_max  category_3_min  \\\n",
       "0                 Tops  ...       18.999442           375.0             0.0   \n",
       "1  Computers & Tablets  ...       87.887754          1900.0             3.0   \n",
       "2       Tops & Blouses  ...       18.237514          1525.0             0.0   \n",
       "3           Home Décor  ...       21.566301           848.0             0.0   \n",
       "4              Jewelry  ...       27.501571          2004.0             0.0   \n",
       "\n",
       "   category_3_median  category_3_mean  category_3_max  category_name_min  \\\n",
       "0               14.0        18.352495           309.0                0.0   \n",
       "1               25.0        42.913900           750.0                3.0   \n",
       "2               12.0        15.659676           329.0                0.0   \n",
       "3               16.0        22.185020           848.0                0.0   \n",
       "4               12.0        25.587509          1747.0                0.0   \n",
       "\n",
       "   category_name_median  category_name_mean  category_name_max  \n",
       "0                  14.0           18.352495              309.0  \n",
       "1                  25.0           42.913900              750.0  \n",
       "2                  12.0           15.660102              329.0  \n",
       "3                  16.0           22.185020              848.0  \n",
       "4                  12.0           25.587509             1747.0  \n",
       "\n",
       "[5 rows x 31 columns]"
      ]
     },
     "execution_count": 18,
     "metadata": {},
     "output_type": "execute_result"
    }
   ],
   "source": [
    "train.head(5)"
   ]
  },
  {
   "cell_type": "code",
   "execution_count": 19,
   "id": "35ef634e",
   "metadata": {
    "execution": {
     "iopub.execute_input": "2022-01-09T05:14:22.014016Z",
     "iopub.status.busy": "2022-01-09T05:14:22.013324Z",
     "iopub.status.idle": "2022-01-09T05:14:24.029084Z",
     "shell.execute_reply": "2022-01-09T05:14:24.028496Z",
     "shell.execute_reply.started": "2022-01-09T05:10:08.307257Z"
    },
    "papermill": {
     "duration": 2.082819,
     "end_time": "2022-01-09T05:14:24.029237",
     "exception": false,
     "start_time": "2022-01-09T05:14:21.946418",
     "status": "completed"
    },
    "tags": []
   },
   "outputs": [],
   "source": [
    "col = ['item_condition_id', \n",
    "       'shipping', \n",
    "      'brand_name_min', \n",
    "       'brand_name_max', \n",
    "       'brand_name_median', \n",
    "       'brand_name_mean', \n",
    "      'category_name_min', \n",
    "       'category_name_max', \n",
    "       'category_name_median', \n",
    "       'category_name_mean'\n",
    "      ]\n",
    "\n",
    "train_col = train[col]\n",
    "train_pr = train[['price']]\n",
    "\n",
    "test_col = test[col]"
   ]
  },
  {
   "cell_type": "markdown",
   "id": "28f25943",
   "metadata": {
    "papermill": {
     "duration": 0.060449,
     "end_time": "2022-01-09T05:14:24.149610",
     "exception": false,
     "start_time": "2022-01-09T05:14:24.089161",
     "status": "completed"
    },
    "tags": []
   },
   "source": [
    "**LinearRegression**\n",
    "\n",
    "Linear regression is a statistical technique used in predictive analytics.  It models the linear relationship between a dependent variable and one or more independent variables. Care must be taken to avoid overfitting, a situation where the model becomes too specific to the original dataset.                 \n",
    "\n",
    "The formula of linear regression is: Y = bX + A.\n"
   ]
  },
  {
   "cell_type": "markdown",
   "id": "a9918a04",
   "metadata": {
    "papermill": {
     "duration": 0.060321,
     "end_time": "2022-01-09T05:14:24.391346",
     "exception": false,
     "start_time": "2022-01-09T05:14:24.331025",
     "status": "completed"
    },
    "tags": []
   },
   "source": [
    "**LightGBM**\n",
    "\n",
    "LightGBM stands for Light Gradient Boosting Machine, which is an open source processing gradient boosting algorithm developed by Microsoft. Gradient Boosting is an algorithm derived from the Decision Tree algorithm, which performs the sequential construction of multiple Decision Trees and conducts learning."
   ]
  },
  {
   "cell_type": "code",
   "execution_count": 20,
   "id": "95e56efa",
   "metadata": {
    "execution": {
     "iopub.execute_input": "2022-01-09T05:14:24.516533Z",
     "iopub.status.busy": "2022-01-09T05:14:24.515505Z",
     "iopub.status.idle": "2022-01-09T05:14:25.117803Z",
     "shell.execute_reply": "2022-01-09T05:14:25.118793Z",
     "shell.execute_reply.started": "2022-01-09T05:10:10.727758Z"
    },
    "papermill": {
     "duration": 0.667276,
     "end_time": "2022-01-09T05:14:25.119072",
     "exception": false,
     "start_time": "2022-01-09T05:14:24.451796",
     "status": "completed"
    },
    "tags": []
   },
   "outputs": [],
   "source": [
    "#Train model using linear regression\n",
    "regr = linear_model.LinearRegression()\n",
    "regr.fit(train_col, train_pr)\n",
    "\n",
    "#Create a price prediction on the test set\n",
    "test['price'] = regr.predict(test_col)\n",
    "\n",
    "#Bring price predictions less than 0 to 0\n",
    "test.loc[test.price < 0, 'price'] = 0\n"
   ]
  },
  {
   "cell_type": "code",
   "execution_count": 21,
   "id": "94dd7c25",
   "metadata": {},
   "outputs": [
    {
     "data": {
      "text/html": [
       "<div>\n",
       "<style scoped>\n",
       "    .dataframe tbody tr th:only-of-type {\n",
       "        vertical-align: middle;\n",
       "    }\n",
       "\n",
       "    .dataframe tbody tr th {\n",
       "        vertical-align: top;\n",
       "    }\n",
       "\n",
       "    .dataframe thead th {\n",
       "        text-align: right;\n",
       "    }\n",
       "</style>\n",
       "<table border=\"1\" class=\"dataframe\">\n",
       "  <thead>\n",
       "    <tr style=\"text-align: right;\">\n",
       "      <th></th>\n",
       "      <th>test_id</th>\n",
       "      <th>name</th>\n",
       "      <th>item_condition_id</th>\n",
       "      <th>category_name</th>\n",
       "      <th>brand_name</th>\n",
       "      <th>shipping</th>\n",
       "      <th>item_description</th>\n",
       "      <th>category_1</th>\n",
       "      <th>category_2</th>\n",
       "      <th>category_3</th>\n",
       "      <th>...</th>\n",
       "      <th>category_2_max</th>\n",
       "      <th>category_3_min</th>\n",
       "      <th>category_3_median</th>\n",
       "      <th>category_3_mean</th>\n",
       "      <th>category_3_max</th>\n",
       "      <th>category_name_min</th>\n",
       "      <th>category_name_median</th>\n",
       "      <th>category_name_mean</th>\n",
       "      <th>category_name_max</th>\n",
       "      <th>price</th>\n",
       "    </tr>\n",
       "  </thead>\n",
       "  <tbody>\n",
       "    <tr>\n",
       "      <th>0</th>\n",
       "      <td>0</td>\n",
       "      <td>Breast cancer \"I fight like a girl\" ring</td>\n",
       "      <td>1</td>\n",
       "      <td>Women/Jewelry/Rings</td>\n",
       "      <td>None</td>\n",
       "      <td>1</td>\n",
       "      <td>Size 7</td>\n",
       "      <td>Women</td>\n",
       "      <td>Jewelry</td>\n",
       "      <td>Rings</td>\n",
       "      <td>...</td>\n",
       "      <td>2004.0</td>\n",
       "      <td>0.0</td>\n",
       "      <td>15.0</td>\n",
       "      <td>32.957465</td>\n",
       "      <td>2004.0</td>\n",
       "      <td>0.0</td>\n",
       "      <td>15.0</td>\n",
       "      <td>32.957465</td>\n",
       "      <td>2004.0</td>\n",
       "      <td>25.496219</td>\n",
       "    </tr>\n",
       "    <tr>\n",
       "      <th>1</th>\n",
       "      <td>1</td>\n",
       "      <td>25 pcs NEW 7.5\"x12\" Kraft Bubble Mailers</td>\n",
       "      <td>1</td>\n",
       "      <td>Other/Office supplies/Shipping Supplies</td>\n",
       "      <td>None</td>\n",
       "      <td>1</td>\n",
       "      <td>25 pcs NEW 7.5\"x12\" Kraft Bubble Mailers Lined...</td>\n",
       "      <td>Other</td>\n",
       "      <td>Office supplies</td>\n",
       "      <td>Shipping Supplies</td>\n",
       "      <td>...</td>\n",
       "      <td>950.0</td>\n",
       "      <td>0.0</td>\n",
       "      <td>9.0</td>\n",
       "      <td>11.268892</td>\n",
       "      <td>235.0</td>\n",
       "      <td>0.0</td>\n",
       "      <td>9.0</td>\n",
       "      <td>11.268892</td>\n",
       "      <td>235.0</td>\n",
       "      <td>12.589569</td>\n",
       "    </tr>\n",
       "    <tr>\n",
       "      <th>2</th>\n",
       "      <td>2</td>\n",
       "      <td>Coach bag</td>\n",
       "      <td>1</td>\n",
       "      <td>Vintage &amp; Collectibles/Bags and Purses/Handbag</td>\n",
       "      <td>Coach</td>\n",
       "      <td>1</td>\n",
       "      <td>Brand new coach bag. Bought for [rm] at a Coac...</td>\n",
       "      <td>Vintage &amp; Collectibles</td>\n",
       "      <td>Bags and Purses</td>\n",
       "      <td>Handbag</td>\n",
       "      <td>...</td>\n",
       "      <td>1750.0</td>\n",
       "      <td>0.0</td>\n",
       "      <td>55.0</td>\n",
       "      <td>139.562546</td>\n",
       "      <td>1709.0</td>\n",
       "      <td>0.0</td>\n",
       "      <td>55.0</td>\n",
       "      <td>139.562546</td>\n",
       "      <td>1709.0</td>\n",
       "      <td>112.516602</td>\n",
       "    </tr>\n",
       "    <tr>\n",
       "      <th>3</th>\n",
       "      <td>3</td>\n",
       "      <td>Floral Kimono</td>\n",
       "      <td>2</td>\n",
       "      <td>Women/Sweaters/Cardigan</td>\n",
       "      <td>None</td>\n",
       "      <td>0</td>\n",
       "      <td>-floral kimono -never worn -lightweight and pe...</td>\n",
       "      <td>Women</td>\n",
       "      <td>Sweaters</td>\n",
       "      <td>Cardigan</td>\n",
       "      <td>...</td>\n",
       "      <td>590.0</td>\n",
       "      <td>0.0</td>\n",
       "      <td>17.0</td>\n",
       "      <td>26.924685</td>\n",
       "      <td>327.0</td>\n",
       "      <td>0.0</td>\n",
       "      <td>17.0</td>\n",
       "      <td>27.000960</td>\n",
       "      <td>327.0</td>\n",
       "      <td>24.609692</td>\n",
       "    </tr>\n",
       "    <tr>\n",
       "      <th>4</th>\n",
       "      <td>4</td>\n",
       "      <td>Life after Death</td>\n",
       "      <td>3</td>\n",
       "      <td>Other/Books/Religion &amp; Spirituality</td>\n",
       "      <td>None</td>\n",
       "      <td>1</td>\n",
       "      <td>Rediscovering life after the loss of a loved o...</td>\n",
       "      <td>Other</td>\n",
       "      <td>Books</td>\n",
       "      <td>Religion &amp; Spirituality</td>\n",
       "      <td>...</td>\n",
       "      <td>180.0</td>\n",
       "      <td>3.0</td>\n",
       "      <td>11.0</td>\n",
       "      <td>13.358423</td>\n",
       "      <td>75.0</td>\n",
       "      <td>3.0</td>\n",
       "      <td>11.0</td>\n",
       "      <td>13.358423</td>\n",
       "      <td>75.0</td>\n",
       "      <td>7.471231</td>\n",
       "    </tr>\n",
       "  </tbody>\n",
       "</table>\n",
       "<p>5 rows × 31 columns</p>\n",
       "</div>"
      ],
      "text/plain": [
       "   test_id                                      name  item_condition_id  \\\n",
       "0        0  Breast cancer \"I fight like a girl\" ring                  1   \n",
       "1        1  25 pcs NEW 7.5\"x12\" Kraft Bubble Mailers                  1   \n",
       "2        2                                 Coach bag                  1   \n",
       "3        3                             Floral Kimono                  2   \n",
       "4        4                          Life after Death                  3   \n",
       "\n",
       "                                    category_name brand_name  shipping  \\\n",
       "0                             Women/Jewelry/Rings       None         1   \n",
       "1         Other/Office supplies/Shipping Supplies       None         1   \n",
       "2  Vintage & Collectibles/Bags and Purses/Handbag      Coach         1   \n",
       "3                         Women/Sweaters/Cardigan       None         0   \n",
       "4             Other/Books/Religion & Spirituality       None         1   \n",
       "\n",
       "                                    item_description              category_1  \\\n",
       "0                                             Size 7                   Women   \n",
       "1  25 pcs NEW 7.5\"x12\" Kraft Bubble Mailers Lined...                   Other   \n",
       "2  Brand new coach bag. Bought for [rm] at a Coac...  Vintage & Collectibles   \n",
       "3  -floral kimono -never worn -lightweight and pe...                   Women   \n",
       "4  Rediscovering life after the loss of a loved o...                   Other   \n",
       "\n",
       "        category_2               category_3  ...  category_2_max  \\\n",
       "0          Jewelry                    Rings  ...          2004.0   \n",
       "1  Office supplies        Shipping Supplies  ...           950.0   \n",
       "2  Bags and Purses                  Handbag  ...          1750.0   \n",
       "3         Sweaters                 Cardigan  ...           590.0   \n",
       "4            Books  Religion & Spirituality  ...           180.0   \n",
       "\n",
       "   category_3_min  category_3_median  category_3_mean  category_3_max  \\\n",
       "0             0.0               15.0        32.957465          2004.0   \n",
       "1             0.0                9.0        11.268892           235.0   \n",
       "2             0.0               55.0       139.562546          1709.0   \n",
       "3             0.0               17.0        26.924685           327.0   \n",
       "4             3.0               11.0        13.358423            75.0   \n",
       "\n",
       "   category_name_min  category_name_median  category_name_mean  \\\n",
       "0                0.0                  15.0           32.957465   \n",
       "1                0.0                   9.0           11.268892   \n",
       "2                0.0                  55.0          139.562546   \n",
       "3                0.0                  17.0           27.000960   \n",
       "4                3.0                  11.0           13.358423   \n",
       "\n",
       "   category_name_max       price  \n",
       "0             2004.0   25.496219  \n",
       "1              235.0   12.589569  \n",
       "2             1709.0  112.516602  \n",
       "3              327.0   24.609692  \n",
       "4               75.0    7.471231  \n",
       "\n",
       "[5 rows x 31 columns]"
      ]
     },
     "execution_count": 21,
     "metadata": {},
     "output_type": "execute_result"
    }
   ],
   "source": [
    "test.head(5)"
   ]
  },
  {
   "cell_type": "code",
   "execution_count": 22,
   "id": "0f23d747",
   "metadata": {
    "execution": {
     "iopub.execute_input": "2022-01-09T05:14:25.273121Z",
     "iopub.status.busy": "2022-01-09T05:14:25.272453Z",
     "iopub.status.idle": "2022-01-09T05:14:38.601409Z",
     "shell.execute_reply": "2022-01-09T05:14:38.600920Z",
     "shell.execute_reply.started": "2022-01-09T05:10:37.265854Z"
    },
    "papermill": {
     "duration": 13.393554,
     "end_time": "2022-01-09T05:14:38.601548",
     "exception": false,
     "start_time": "2022-01-09T05:14:25.207994",
     "status": "completed"
    },
    "tags": []
   },
   "outputs": [
    {
     "data": {
      "text/html": [
       "<div>\n",
       "<style scoped>\n",
       "    .dataframe tbody tr th:only-of-type {\n",
       "        vertical-align: middle;\n",
       "    }\n",
       "\n",
       "    .dataframe tbody tr th {\n",
       "        vertical-align: top;\n",
       "    }\n",
       "\n",
       "    .dataframe thead th {\n",
       "        text-align: right;\n",
       "    }\n",
       "</style>\n",
       "<table border=\"1\" class=\"dataframe\">\n",
       "  <thead>\n",
       "    <tr style=\"text-align: right;\">\n",
       "      <th></th>\n",
       "      <th>test_id</th>\n",
       "      <th>name</th>\n",
       "      <th>price</th>\n",
       "    </tr>\n",
       "  </thead>\n",
       "  <tbody>\n",
       "    <tr>\n",
       "      <th>0</th>\n",
       "      <td>0</td>\n",
       "      <td>Breast cancer \"I fight like a girl\" ring</td>\n",
       "      <td>25.496219</td>\n",
       "    </tr>\n",
       "    <tr>\n",
       "      <th>1</th>\n",
       "      <td>1</td>\n",
       "      <td>25 pcs NEW 7.5\"x12\" Kraft Bubble Mailers</td>\n",
       "      <td>12.589569</td>\n",
       "    </tr>\n",
       "    <tr>\n",
       "      <th>2</th>\n",
       "      <td>2</td>\n",
       "      <td>Coach bag</td>\n",
       "      <td>112.516602</td>\n",
       "    </tr>\n",
       "    <tr>\n",
       "      <th>3</th>\n",
       "      <td>3</td>\n",
       "      <td>Floral Kimono</td>\n",
       "      <td>24.609692</td>\n",
       "    </tr>\n",
       "    <tr>\n",
       "      <th>4</th>\n",
       "      <td>4</td>\n",
       "      <td>Life after Death</td>\n",
       "      <td>7.471231</td>\n",
       "    </tr>\n",
       "    <tr>\n",
       "      <th>5</th>\n",
       "      <td>5</td>\n",
       "      <td>iPhone 6 Plus or 6s Plus Vodka pink case</td>\n",
       "      <td>13.319118</td>\n",
       "    </tr>\n",
       "    <tr>\n",
       "      <th>6</th>\n",
       "      <td>6</td>\n",
       "      <td>Vintage Cameo Pendant &amp; Brooch Pin</td>\n",
       "      <td>16.853422</td>\n",
       "    </tr>\n",
       "    <tr>\n",
       "      <th>7</th>\n",
       "      <td>7</td>\n",
       "      <td>Rose Gold Stainless Steel Quartz Watch</td>\n",
       "      <td>43.582451</td>\n",
       "    </tr>\n",
       "    <tr>\n",
       "      <th>8</th>\n",
       "      <td>8</td>\n",
       "      <td>Daisy Marc Jacobs 3.4oz</td>\n",
       "      <td>23.766558</td>\n",
       "    </tr>\n",
       "    <tr>\n",
       "      <th>9</th>\n",
       "      <td>9</td>\n",
       "      <td>Rose Brushes and Silicone Sponge</td>\n",
       "      <td>16.168085</td>\n",
       "    </tr>\n",
       "    <tr>\n",
       "      <th>10</th>\n",
       "      <td>10</td>\n",
       "      <td>BNWT Coach coated canvas wristlet</td>\n",
       "      <td>27.705191</td>\n",
       "    </tr>\n",
       "    <tr>\n",
       "      <th>11</th>\n",
       "      <td>11</td>\n",
       "      <td>\"John Carpenters Halloween\"</td>\n",
       "      <td>15.584737</td>\n",
       "    </tr>\n",
       "    <tr>\n",
       "      <th>12</th>\n",
       "      <td>12</td>\n",
       "      <td>Tuff Jeans Cowgirl Tuff Co.</td>\n",
       "      <td>24.855437</td>\n",
       "    </tr>\n",
       "    <tr>\n",
       "      <th>13</th>\n",
       "      <td>13</td>\n",
       "      <td>Lululemon crop size 6</td>\n",
       "      <td>46.826003</td>\n",
       "    </tr>\n",
       "    <tr>\n",
       "      <th>14</th>\n",
       "      <td>14</td>\n",
       "      <td>Versace Eros 200 ml 6.7 fl oz for men</td>\n",
       "      <td>25.423409</td>\n",
       "    </tr>\n",
       "    <tr>\n",
       "      <th>15</th>\n",
       "      <td>15</td>\n",
       "      <td>Loot crate exclusive kill bill socks</td>\n",
       "      <td>21.558840</td>\n",
       "    </tr>\n",
       "    <tr>\n",
       "      <th>16</th>\n",
       "      <td>16</td>\n",
       "      <td>Tea party set</td>\n",
       "      <td>13.908919</td>\n",
       "    </tr>\n",
       "    <tr>\n",
       "      <th>17</th>\n",
       "      <td>17</td>\n",
       "      <td>Jordan</td>\n",
       "      <td>21.016134</td>\n",
       "    </tr>\n",
       "    <tr>\n",
       "      <th>18</th>\n",
       "      <td>18</td>\n",
       "      <td>MISS ME CROSS BLING JEANS</td>\n",
       "      <td>38.016572</td>\n",
       "    </tr>\n",
       "    <tr>\n",
       "      <th>19</th>\n",
       "      <td>19</td>\n",
       "      <td>Elephant Choker</td>\n",
       "      <td>20.682264</td>\n",
       "    </tr>\n",
       "  </tbody>\n",
       "</table>\n",
       "</div>"
      ],
      "text/plain": [
       "    test_id                                      name       price\n",
       "0         0  Breast cancer \"I fight like a girl\" ring   25.496219\n",
       "1         1  25 pcs NEW 7.5\"x12\" Kraft Bubble Mailers   12.589569\n",
       "2         2                                 Coach bag  112.516602\n",
       "3         3                             Floral Kimono   24.609692\n",
       "4         4                          Life after Death    7.471231\n",
       "5         5  iPhone 6 Plus or 6s Plus Vodka pink case   13.319118\n",
       "6         6        Vintage Cameo Pendant & Brooch Pin   16.853422\n",
       "7         7    Rose Gold Stainless Steel Quartz Watch   43.582451\n",
       "8         8                   Daisy Marc Jacobs 3.4oz   23.766558\n",
       "9         9          Rose Brushes and Silicone Sponge   16.168085\n",
       "10       10         BNWT Coach coated canvas wristlet   27.705191\n",
       "11       11               \"John Carpenters Halloween\"   15.584737\n",
       "12       12               Tuff Jeans Cowgirl Tuff Co.   24.855437\n",
       "13       13                     Lululemon crop size 6   46.826003\n",
       "14       14     Versace Eros 200 ml 6.7 fl oz for men   25.423409\n",
       "15       15      Loot crate exclusive kill bill socks   21.558840\n",
       "16       16                             Tea party set   13.908919\n",
       "17       17                                    Jordan   21.016134\n",
       "18       18                 MISS ME CROSS BLING JEANS   38.016572\n",
       "19       19                           Elephant Choker   20.682264"
      ]
     },
     "execution_count": 22,
     "metadata": {},
     "output_type": "execute_result"
    }
   ],
   "source": [
    "submission_col = test[['test_id','name','price']]\n",
    "submission_col.to_csv('submission.csv', index=False)\n",
    "submission_col.head(20)"
   ]
  },
  {
   "cell_type": "code",
   "execution_count": 23,
   "id": "4a81a677",
   "metadata": {},
   "outputs": [
    {
     "data": {
      "text/html": [
       "<div>\n",
       "<style scoped>\n",
       "    .dataframe tbody tr th:only-of-type {\n",
       "        vertical-align: middle;\n",
       "    }\n",
       "\n",
       "    .dataframe tbody tr th {\n",
       "        vertical-align: top;\n",
       "    }\n",
       "\n",
       "    .dataframe thead th {\n",
       "        text-align: right;\n",
       "    }\n",
       "</style>\n",
       "<table border=\"1\" class=\"dataframe\">\n",
       "  <thead>\n",
       "    <tr style=\"text-align: right;\">\n",
       "      <th></th>\n",
       "      <th>train_id</th>\n",
       "      <th>name</th>\n",
       "      <th>item_condition_id</th>\n",
       "      <th>category_name</th>\n",
       "      <th>brand_name</th>\n",
       "      <th>price</th>\n",
       "      <th>shipping</th>\n",
       "      <th>item_description</th>\n",
       "      <th>category_1</th>\n",
       "      <th>category_2</th>\n",
       "      <th>...</th>\n",
       "      <th>category_2_mean</th>\n",
       "      <th>category_2_max</th>\n",
       "      <th>category_3_min</th>\n",
       "      <th>category_3_median</th>\n",
       "      <th>category_3_mean</th>\n",
       "      <th>category_3_max</th>\n",
       "      <th>category_name_min</th>\n",
       "      <th>category_name_median</th>\n",
       "      <th>category_name_mean</th>\n",
       "      <th>category_name_max</th>\n",
       "    </tr>\n",
       "  </thead>\n",
       "  <tbody>\n",
       "    <tr>\n",
       "      <th>300</th>\n",
       "      <td>300</td>\n",
       "      <td>Jordan iPhone case only for plus</td>\n",
       "      <td>1</td>\n",
       "      <td>Electronics/Cell Phones &amp; Accessories/Cases, C...</td>\n",
       "      <td>Apple</td>\n",
       "      <td>5.0</td>\n",
       "      <td>1</td>\n",
       "      <td>JORDAN IPHONE CASE ONLY FOR IPHONE 6 plus iPho...</td>\n",
       "      <td>Electronics</td>\n",
       "      <td>Cell Phones &amp; Accessories</td>\n",
       "      <td>...</td>\n",
       "      <td>30.142278</td>\n",
       "      <td>1909.0</td>\n",
       "      <td>0.0</td>\n",
       "      <td>10.0</td>\n",
       "      <td>13.17436</td>\n",
       "      <td>1000.0</td>\n",
       "      <td>0.0</td>\n",
       "      <td>10.0</td>\n",
       "      <td>13.174360</td>\n",
       "      <td>1000.0</td>\n",
       "    </tr>\n",
       "    <tr>\n",
       "      <th>1184</th>\n",
       "      <td>1184</td>\n",
       "      <td>Camo OtterBox iPhone Case</td>\n",
       "      <td>2</td>\n",
       "      <td>Electronics/Cell Phones &amp; Accessories/Cases, C...</td>\n",
       "      <td>None</td>\n",
       "      <td>16.0</td>\n",
       "      <td>0</td>\n",
       "      <td>iPhone 5/5s case</td>\n",
       "      <td>Electronics</td>\n",
       "      <td>Cell Phones &amp; Accessories</td>\n",
       "      <td>...</td>\n",
       "      <td>30.142278</td>\n",
       "      <td>1909.0</td>\n",
       "      <td>0.0</td>\n",
       "      <td>10.0</td>\n",
       "      <td>13.17436</td>\n",
       "      <td>1000.0</td>\n",
       "      <td>0.0</td>\n",
       "      <td>10.0</td>\n",
       "      <td>13.174360</td>\n",
       "      <td>1000.0</td>\n",
       "    </tr>\n",
       "    <tr>\n",
       "      <th>1350</th>\n",
       "      <td>1350</td>\n",
       "      <td>Michael Kors iPhone Case</td>\n",
       "      <td>3</td>\n",
       "      <td>Women/Women's Accessories/Wallets</td>\n",
       "      <td>Michael Kors</td>\n",
       "      <td>19.0</td>\n",
       "      <td>0</td>\n",
       "      <td>Gold Michael Kors iPhone case for older model ...</td>\n",
       "      <td>Women</td>\n",
       "      <td>Women's Accessories</td>\n",
       "      <td>...</td>\n",
       "      <td>30.930531</td>\n",
       "      <td>1999.0</td>\n",
       "      <td>0.0</td>\n",
       "      <td>23.0</td>\n",
       "      <td>34.39445</td>\n",
       "      <td>906.0</td>\n",
       "      <td>0.0</td>\n",
       "      <td>24.0</td>\n",
       "      <td>34.854473</td>\n",
       "      <td>906.0</td>\n",
       "    </tr>\n",
       "    <tr>\n",
       "      <th>1420</th>\n",
       "      <td>1420</td>\n",
       "      <td>Vs pink iphone case 6/6s plus</td>\n",
       "      <td>2</td>\n",
       "      <td>Electronics/Cell Phones &amp; Accessories/Cases, C...</td>\n",
       "      <td>None</td>\n",
       "      <td>16.0</td>\n",
       "      <td>0</td>\n",
       "      <td>Pink bulky iphone 6 plus/6s plus iphone case</td>\n",
       "      <td>Electronics</td>\n",
       "      <td>Cell Phones &amp; Accessories</td>\n",
       "      <td>...</td>\n",
       "      <td>30.142278</td>\n",
       "      <td>1909.0</td>\n",
       "      <td>0.0</td>\n",
       "      <td>10.0</td>\n",
       "      <td>13.17436</td>\n",
       "      <td>1000.0</td>\n",
       "      <td>0.0</td>\n",
       "      <td>10.0</td>\n",
       "      <td>13.174360</td>\n",
       "      <td>1000.0</td>\n",
       "    </tr>\n",
       "    <tr>\n",
       "      <th>2140</th>\n",
       "      <td>2140</td>\n",
       "      <td>New Victoria's Secret iPhone case 6s/6/</td>\n",
       "      <td>1</td>\n",
       "      <td>Electronics/Cell Phones &amp; Accessories/Cases, C...</td>\n",
       "      <td>Apple</td>\n",
       "      <td>20.0</td>\n",
       "      <td>0</td>\n",
       "      <td>New Victoria's Secret iPhone case</td>\n",
       "      <td>Electronics</td>\n",
       "      <td>Cell Phones &amp; Accessories</td>\n",
       "      <td>...</td>\n",
       "      <td>30.142278</td>\n",
       "      <td>1909.0</td>\n",
       "      <td>0.0</td>\n",
       "      <td>10.0</td>\n",
       "      <td>13.17436</td>\n",
       "      <td>1000.0</td>\n",
       "      <td>0.0</td>\n",
       "      <td>10.0</td>\n",
       "      <td>13.174360</td>\n",
       "      <td>1000.0</td>\n",
       "    </tr>\n",
       "  </tbody>\n",
       "</table>\n",
       "<p>5 rows × 31 columns</p>\n",
       "</div>"
      ],
      "text/plain": [
       "      train_id                                     name  item_condition_id  \\\n",
       "300        300         Jordan iPhone case only for plus                  1   \n",
       "1184      1184                Camo OtterBox iPhone Case                  2   \n",
       "1350      1350                 Michael Kors iPhone Case                  3   \n",
       "1420      1420            Vs pink iphone case 6/6s plus                  2   \n",
       "2140      2140  New Victoria's Secret iPhone case 6s/6/                  1   \n",
       "\n",
       "                                          category_name    brand_name  price  \\\n",
       "300   Electronics/Cell Phones & Accessories/Cases, C...         Apple    5.0   \n",
       "1184  Electronics/Cell Phones & Accessories/Cases, C...          None   16.0   \n",
       "1350                  Women/Women's Accessories/Wallets  Michael Kors   19.0   \n",
       "1420  Electronics/Cell Phones & Accessories/Cases, C...          None   16.0   \n",
       "2140  Electronics/Cell Phones & Accessories/Cases, C...         Apple   20.0   \n",
       "\n",
       "      shipping                                   item_description  \\\n",
       "300          1  JORDAN IPHONE CASE ONLY FOR IPHONE 6 plus iPho...   \n",
       "1184         0                                   iPhone 5/5s case   \n",
       "1350         0  Gold Michael Kors iPhone case for older model ...   \n",
       "1420         0       Pink bulky iphone 6 plus/6s plus iphone case   \n",
       "2140         0                  New Victoria's Secret iPhone case   \n",
       "\n",
       "       category_1                 category_2  ... category_2_mean  \\\n",
       "300   Electronics  Cell Phones & Accessories  ...       30.142278   \n",
       "1184  Electronics  Cell Phones & Accessories  ...       30.142278   \n",
       "1350        Women        Women's Accessories  ...       30.930531   \n",
       "1420  Electronics  Cell Phones & Accessories  ...       30.142278   \n",
       "2140  Electronics  Cell Phones & Accessories  ...       30.142278   \n",
       "\n",
       "      category_2_max  category_3_min  category_3_median  category_3_mean  \\\n",
       "300           1909.0             0.0               10.0         13.17436   \n",
       "1184          1909.0             0.0               10.0         13.17436   \n",
       "1350          1999.0             0.0               23.0         34.39445   \n",
       "1420          1909.0             0.0               10.0         13.17436   \n",
       "2140          1909.0             0.0               10.0         13.17436   \n",
       "\n",
       "      category_3_max  category_name_min  category_name_median  \\\n",
       "300           1000.0                0.0                  10.0   \n",
       "1184          1000.0                0.0                  10.0   \n",
       "1350           906.0                0.0                  24.0   \n",
       "1420          1000.0                0.0                  10.0   \n",
       "2140          1000.0                0.0                  10.0   \n",
       "\n",
       "      category_name_mean  category_name_max  \n",
       "300            13.174360             1000.0  \n",
       "1184           13.174360             1000.0  \n",
       "1350           34.854473              906.0  \n",
       "1420           13.174360             1000.0  \n",
       "2140           13.174360             1000.0  \n",
       "\n",
       "[5 rows x 31 columns]"
      ]
     },
     "execution_count": 23,
     "metadata": {},
     "output_type": "execute_result"
    }
   ],
   "source": [
    "train[train['name'].str.contains('iphone case', case=False)].head(5)"
   ]
  }
 ],
 "metadata": {
  "kernelspec": {
   "display_name": "Python 3",
   "language": "python",
   "name": "python3"
  },
  "language_info": {
   "codemirror_mode": {
    "name": "ipython",
    "version": 3
   },
   "file_extension": ".py",
   "mimetype": "text/x-python",
   "name": "python",
   "nbconvert_exporter": "python",
   "pygments_lexer": "ipython3",
   "version": "3.11.4"
  },
  "papermill": {
   "default_parameters": {},
   "duration": 184.164777,
   "end_time": "2022-01-09T05:14:40.878009",
   "environment_variables": {},
   "exception": null,
   "input_path": "__notebook__.ipynb",
   "output_path": "__notebook__.ipynb",
   "parameters": {},
   "start_time": "2022-01-09T05:11:36.713232",
   "version": "2.3.3"
  }
 },
 "nbformat": 4,
 "nbformat_minor": 5
}
